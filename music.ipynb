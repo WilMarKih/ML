{
 "cells": [
  {
   "cell_type": "code",
   "execution_count": 116,
   "id": "faef7c33",
   "metadata": {},
   "outputs": [
    {
     "data": {
      "text/plain": [
       "1.0"
      ]
     },
     "execution_count": 116,
     "metadata": {},
     "output_type": "execute_result"
    }
   ],
   "source": [
    "import pandas as pd\n",
    "from sklearn.tree import DecisionTreeClassifier as DTC # model algorithm\n",
    "from sklearn.model_selection import train_test_split as tts # split the data set into testing and training portions\n",
    "from sklearn.metrics import accuracy_score # tests the accuracy of the model from the split data\n",
    "\n",
    "\n",
    "music_data = pd.read_csv('music.csv') # importing the data set, must be in the same directory to use this syntax\n",
    "X = music_data.drop(columns = ['genre']) \n",
    "y = music_data['genre']\n",
    "X_train,  X_test, y_train, y_test = tts(X,y,test_size = 0.2) # random instances of data are picked for training and testing \n",
    "# specifying the testing size of the data set to 20%\n",
    "\n",
    "model = DTC()\n",
    "model.fit(X_train, y_train) # load up the model with testing data\n",
    "\n",
    "predictions = model.predict(X_test) # making predictions using aportion of column\n",
    "predictions\n",
    "\n",
    "score = accuracy_score(y_test, predictions) # (expected values, actual values)\n",
    "score # scores are from 0-1\n"
   ]
  }
 ],
 "metadata": {
  "kernelspec": {
   "display_name": "Python 3 (ipykernel)",
   "language": "python",
   "name": "python3"
  },
  "language_info": {
   "codemirror_mode": {
    "name": "ipython",
    "version": 3
   },
   "file_extension": ".py",
   "mimetype": "text/x-python",
   "name": "python",
   "nbconvert_exporter": "python",
   "pygments_lexer": "ipython3",
   "version": "3.11.5"
  }
 },
 "nbformat": 4,
 "nbformat_minor": 5
}
